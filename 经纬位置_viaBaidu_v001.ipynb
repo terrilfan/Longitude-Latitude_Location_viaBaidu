{
 "cells": [
  {
   "cell_type": "markdown",
   "metadata": {},
   "source": [
    "#### 透过经纬度寻找所属省份，城市和区域\n",
    "源代码地址: \n",
    "https://www.cnblogs.com/shixinzei/p/11029279.html\n",
    "\n",
    "https://www.cnblogs.com/zlc364624/p/12455791.html\n",
    "\n",
    "（若高德地图如下）https://blog.csdn.net/weixin_42473844/article/details/100163838\n",
    "\n",
    "1. 需调用百度地图API实现得申请百度账号或者登陆百度账号，然后申请自己的ak秘钥。链接如下：http://lbsyun.baidu.com/apiconsole/key?application=key\n",
    "\n",
    "2. 逆地理编码了解服务文档：http://lbsyun.baidu.com/index.php?title=webapi/guide/webservice-geocoding-abroad"
   ]
  },
  {
   "cell_type": "code",
   "execution_count": 1,
   "metadata": {},
   "outputs": [],
   "source": [
    "#encoding=utf8\n",
    "import json\n",
    "import urllib.request\n",
    "import openpyxl\n",
    "import xlwt\n",
    "import pandas as pd\n",
    "from tqdm.notebook import tqdm"
   ]
  },
  {
   "cell_type": "code",
   "execution_count": 2,
   "metadata": {},
   "outputs": [],
   "source": [
    "# 设定参数; Set your parameters\n",
    "ak_key = '你的百度api ak key' #你的百度api ak key\n",
    "df=pd.read_excel('.\\TestLocation.xlsx')\n",
    "col_lng_lat = ['经度','纬度'] # LNG:经度; LAT:纬度"
   ]
  },
  {
   "cell_type": "code",
   "execution_count": 3,
   "metadata": {},
   "outputs": [],
   "source": [
    "#基于百度地图API下的经纬度信息来解析地理位置信息\n",
    "def getlocation(lat,lng,ak_key):\n",
    "    ak_key = 'lLoGaQmqyIBLGibfmVP9eZRiDGEsseth'\n",
    "    url = 'http://api.map.baidu.com/reverse_geocoding/v3/?ak=' + ak_key + '&output=json&coordtype=wgs84ll&location=' + lat + ',' + lng\n",
    "    print('Retrieving: ', url)\n",
    "    req = urllib.request.urlopen(url)  # json格式的返回数据\n",
    "    data = req.read().decode(\"utf-8\")  # 将其他编码的字符串解码成unicode\n",
    "    # 解析数据\n",
    "    try:\n",
    "        js = json.loads(data)\n",
    "    except:\n",
    "        js = None\n",
    "    return js"
   ]
  },
  {
   "cell_type": "code",
   "execution_count": 4,
   "metadata": {},
   "outputs": [],
   "source": [
    "def jsonFormat(lat,lng,ak_key):\n",
    "    js = getlocation(lat,lng,ak_key)\n",
    "    \n",
    "    if not js or 'status' not in js or js['status'] != 0:\n",
    "        print('======Failure====')\n",
    "        print('Cannot obtain address 经度：', lat, '； 纬度: ', lng)\n",
    "        dictjson={}#声明一个字典\n",
    "        return dictjson\n",
    "    \n",
    "    dictjson={}#声明一个字典\n",
    "    #get()获取json里面的数据\n",
    "    jsonResult = js.get('result')\n",
    "    # 百度地图辨认的经纬度\n",
    "    location = jsonResult.get('location')\n",
    "    lng_baidu = location.get('lng')\n",
    "    lat_baidu = location.get('lat')\n",
    "    # 完整地址\n",
    "    formatted_address = jsonResult.get('formatted_address')\n",
    "    # 经营单位\n",
    "    business = jsonResult.get('business')\n",
    "    # 地址元素\n",
    "    address = jsonResult.get('addressComponent')\n",
    "    #国家\n",
    "    country = address.get('country')\n",
    "    #国家编号（0：中国）\n",
    "    country_code = address.get('country_code')\n",
    "    #国家编号_英文简称_三位（CHN：中国）\n",
    "    country_code_iso = address.get('country_code_iso')\n",
    "    #国家编号_英文简称_二位（CN：中国）\n",
    "    country_code_iso2 = address.get('country_code_iso2')\n",
    "    #省\n",
    "    province = address.get('province')\n",
    "    #城市\n",
    "    city = address.get('city')\n",
    "    #城市等级\n",
    "    city_level = address.get('city_level')\n",
    "    #区/县\n",
    "    district = address.get('district')\n",
    "    #街道/镇\n",
    "    town = address.get('town')\n",
    "    town_code = address.get('town_code')\n",
    "    #区划代码\n",
    "    adcode = address.get('adcode')\n",
    "    # 街道\n",
    "    street=address.get('street')\n",
    "    # 街道编号\n",
    "    street_number=address.get('street_number')\n",
    "    \n",
    "    #把获取到的值，添加到字典里（添加）\n",
    "    dictjson['formatted_address'] = formatted_address\n",
    "#     dictjson['business'] = business\n",
    "#     dictjson['country'] = country\n",
    "#     dictjson['country_code'] = country_code\n",
    "    dictjson['province'] = province\n",
    "    dictjson['city'] = city\n",
    "    dictjson['city_level'] = city_level\n",
    "    dictjson['district'] = district\n",
    "    return dictjson"
   ]
  },
  {
   "cell_type": "code",
   "execution_count": 5,
   "metadata": {},
   "outputs": [],
   "source": [
    "def iterate_df(latlng,ak_key):\n",
    "    res = pd.DataFrame([])\n",
    "    for index,row in tqdm(latlng.iterrows()):\n",
    "        lng_i = row['lng']\n",
    "        lat_i = row['lat']\n",
    "        print(lng_i,lat_i)  # 经纬度\n",
    "        dictjson = jsonFormat(lat=lat_i,lng=lng_i,ak_key=ak_key) # 通过经纬度调用函数获取位置\n",
    "        # Add original longitude and latitude as master keys\n",
    "        dictjson['lng'] = lng_i\n",
    "        dictjson['lat'] = lat_i\n",
    "        # Convert dictionary to dataframe\n",
    "        df_i = pd.DataFrame([dictjson])\n",
    "        # Concatenate the res\n",
    "        res = pd.concat([res,df_i])\n",
    "    # Save the final result\n",
    "#     res.to_pickle('./res_testlocation.pkl') # PKL\n",
    "    res.to_excel('./res_testlocation.xlsx',encoding='utf-8-sig') # Excel"
   ]
  },
  {
   "cell_type": "code",
   "execution_count": 6,
   "metadata": {},
   "outputs": [
    {
     "data": {
      "application/vnd.jupyter.widget-view+json": {
       "model_id": "095e44f958354fe2821263b5a9d2fd69",
       "version_major": 2,
       "version_minor": 0
      },
      "text/plain": [
       "HBox(children=(FloatProgress(value=1.0, bar_style='info', max=1.0), HTML(value='')))"
      ]
     },
     "metadata": {},
     "output_type": "display_data"
    },
    {
     "name": "stdout",
     "output_type": "stream",
     "text": [
      "116.366 39.8673\n",
      "Retrieving:  http://api.map.baidu.com/reverse_geocoding/v3/?ak=lLoGaQmqyIBLGibfmVP9eZRiDGEsseth&output=json&coordtype=wgs84ll&location=39.8673,116.366\n",
      "117.151 39.097\n",
      "Retrieving:  http://api.map.baidu.com/reverse_geocoding/v3/?ak=lLoGaQmqyIBLGibfmVP9eZRiDGEsseth&output=json&coordtype=wgs84ll&location=39.097,117.151\n",
      "nan nan\n",
      "Retrieving:  http://api.map.baidu.com/reverse_geocoding/v3/?ak=lLoGaQmqyIBLGibfmVP9eZRiDGEsseth&output=json&coordtype=wgs84ll&location=nan,nan\n",
      "======Failure====\n",
      "Cannot obtain address 经度： nan ； 纬度:  nan\n",
      "118.1662 39.6308\n",
      "Retrieving:  http://api.map.baidu.com/reverse_geocoding/v3/?ak=lLoGaQmqyIBLGibfmVP9eZRiDGEsseth&output=json&coordtype=wgs84ll&location=39.6308,118.1662\n",
      "119.5259 39.8283\n",
      "Retrieving:  http://api.map.baidu.com/reverse_geocoding/v3/?ak=lLoGaQmqyIBLGibfmVP9eZRiDGEsseth&output=json&coordtype=wgs84ll&location=39.8283,119.5259\n",
      "\n"
     ]
    }
   ],
   "source": [
    "if __name__ == '__main__':\n",
    "    latlng = df[col_lng_lat]\n",
    "    latlng.columns = ['lng','lat']\n",
    "    latlng=latlng.astype(str) \n",
    "    # print(getlocation(lat, lng))\n",
    "    # print(\"------------------\")\n",
    "    # print(jsonFormat(lat,lng))\n",
    "    iterate_df(latlng,ak_key)"
   ]
  }
 ],
 "metadata": {
  "kernelspec": {
   "display_name": "Python 3",
   "language": "python",
   "name": "python3"
  },
  "language_info": {
   "codemirror_mode": {
    "name": "ipython",
    "version": 3
   },
   "file_extension": ".py",
   "mimetype": "text/x-python",
   "name": "python",
   "nbconvert_exporter": "python",
   "pygments_lexer": "ipython3",
   "version": "3.7.7"
  }
 },
 "nbformat": 4,
 "nbformat_minor": 4
}
